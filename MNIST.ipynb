{
  "nbformat": 4,
  "nbformat_minor": 0,
  "metadata": {
    "colab": {
      "name": "MNIST.ipynb",
      "provenance": [],
      "collapsed_sections": [
        "gI8yITOsxBB0"
      ]
    },
    "kernelspec": {
      "name": "python3",
      "display_name": "Python 3"
    },
    "language_info": {
      "name": "python"
    }
  },
  "cells": [
    {
      "cell_type": "markdown",
      "source": [
        "# PyTorch MNIST\n"
      ],
      "metadata": {
        "id": "5NFPKjfp6Ifs"
      }
    },
    {
      "cell_type": "code",
      "execution_count": 19,
      "metadata": {
        "id": "nwC3SCo_5xV9"
      },
      "outputs": [],
      "source": [
        "import matplotlib.pyplot as plt\n",
        "import numpy as np\n",
        "\n",
        "import torch\n",
        "import torchvision\n",
        "from torchvision import transforms, datasets"
      ]
    },
    {
      "cell_type": "markdown",
      "source": [
        "## Set up MNIST data\n"
      ],
      "metadata": {
        "id": "gI8yITOsxBB0"
      }
    },
    {
      "cell_type": "code",
      "source": [
        "# Download training data and transform it to a Tensor\n",
        "data = datasets.MNIST(\"\", train=True, download=True, transform=transforms.Compose([transforms.ToTensor()]))"
      ],
      "metadata": {
        "id": "7O1X_q0X6_Wk"
      },
      "execution_count": 20,
      "outputs": []
    },
    {
      "cell_type": "code",
      "source": [
        "# How many times to go through the dataset\n",
        "EPOCHS = 20\n",
        "\n",
        "# How many examples to give the Neural Network before backpropagation\n",
        "BATCH_SIZE = 64\n",
        "\n",
        "# Split the train data into equal parts and feed it to the model\n",
        "train = torch.utils.data.DataLoader(data, batch_size = BATCH_SIZE)"
      ],
      "metadata": {
        "id": "KadDNQGZw631"
      },
      "execution_count": 21,
      "outputs": []
    },
    {
      "cell_type": "code",
      "source": [
        "# Show some samples from the training dataset\n",
        "fig = plt.figure(figsize=(25, 4))\n",
        "for idx in np.arange(20):\n",
        "   image, label = data [idx]\n",
        "   ax = fig.add_subplot(2, 20/2, idx+1, xticks=[], yticks=[])\n",
        "   ax.imshow(image.view(28, 28))\n",
        "   ax.set_title(f\"Number {label}\")"
      ],
      "metadata": {
        "colab": {
          "base_uri": "https://localhost:8080/",
          "height": 226
        },
        "id": "MRwv6C8BzAiJ",
        "outputId": "2892da51-8f67-4c15-e28a-ded8c2abb470"
      },
      "execution_count": 22,
      "outputs": [
        {
          "output_type": "display_data",
          "data": {
            "image/png": "[encoded data removed]",
            "text/plain": [
              "<Figure size 1800x288 with 20 Axes>"
            ]
          },
          "metadata": {}
        }
      ]
    },
    {
      "cell_type": "markdown",
      "source": [
        "## Neural Network"
      ],
      "metadata": {
        "id": "Ak9IBCOn04NV"
      }
    },
    {
      "cell_type": "code",
      "source": [
        "# Create Neural Network\n",
        "model = torch.nn.Sequential(\n",
        "        torch.nn.Linear(784,10),\n",
        "        torch.nn.Sigmoid(), \n",
        "        torch.nn.Linear(10,10), \n",
        "        torch.nn.LogSoftmax(dim=1)\n",
        "        )\n",
        "\n",
        "# Create Loss function\n",
        "loss = torch.nn.NLLLoss()\n",
        "\n",
        "# Create Optimizer\n",
        "optimizer = torch.optim.SGD(model.parameters(), lr = 0.01)"
      ],
      "metadata": {
        "id": "A8YKYQ4J06mg"
      },
      "execution_count": 23,
      "outputs": []
    },
    {
      "cell_type": "code",
      "source": [
        "# How many times to go over the entire dataset\n",
        "for epoch in range(EPOCHS):\n",
        "  train_loss = 0\n",
        "  # Go through the batches of the dataset\n",
        "  for images, labels in train:\n",
        "    # Forward pass - flat image\n",
        "    output = model(images.view(images.shape[0], -1))\n",
        "    # Calculate loss - prediction and true value\n",
        "    model_loss = loss(output, labels)\n",
        "    # Backward pass - Gradient descent\n",
        "    model_loss.backward()\n",
        "    # Update weights and bias\n",
        "    optimizer.step()\n",
        "    # Reset gradients\n",
        "    optimizer.zero_grad()\n",
        "    train_loss += model_loss.item()\n",
        "\n",
        "  print(f\"Loss: {round(train_loss / len(train), 2)}\\t\\tEpoch {epoch + 1}\\n\")"
      ],
      "metadata": {
        "colab": {
          "base_uri": "https://localhost:8080/"
        },
        "id": "DSSEE8zK6FYr",
        "outputId": "37666f04-424d-43bb-f3a4-c0c00f99e794"
      },
      "execution_count": 24,
      "outputs": [
        {
          "output_type": "stream",
          "name": "stdout",
          "text": [
            "Loss: 2.24\t\tEpoch 1\n",
            "\n",
            "Loss: 2.0\t\tEpoch 2\n",
            "\n",
            "Loss: 1.69\t\tEpoch 3\n",
            "\n",
            "Loss: 1.41\t\tEpoch 4\n",
            "\n",
            "Loss: 1.2\t\tEpoch 5\n",
            "\n",
            "Loss: 1.05\t\tEpoch 6\n",
            "\n",
            "Loss: 0.94\t\tEpoch 7\n",
            "\n",
            "Loss: 0.85\t\tEpoch 8\n",
            "\n",
            "Loss: 0.79\t\tEpoch 9\n",
            "\n",
            "Loss: 0.73\t\tEpoch 10\n",
            "\n",
            "Loss: 0.68\t\tEpoch 11\n",
            "\n",
            "Loss: 0.64\t\tEpoch 12\n",
            "\n",
            "Loss: 0.61\t\tEpoch 13\n",
            "\n",
            "Loss: 0.58\t\tEpoch 14\n",
            "\n",
            "Loss: 0.55\t\tEpoch 15\n",
            "\n",
            "Loss: 0.53\t\tEpoch 16\n",
            "\n",
            "Loss: 0.51\t\tEpoch 17\n",
            "\n",
            "Loss: 0.49\t\tEpoch 18\n",
            "\n",
            "Loss: 0.48\t\tEpoch 19\n",
            "\n",
            "Loss: 0.46\t\tEpoch 20\n",
            "\n"
          ]
        }
      ]
    },
    {
      "cell_type": "markdown",
      "source": [
        "### Accuracy"
      ],
      "metadata": {
        "id": "DazDSqCNJ2NX"
      }
    },
    {
      "cell_type": "code",
      "source": [
        "# Download test data and transform it to a Tensor\n",
        "data = datasets.MNIST(\"\", train=False, download=True, transform=transforms.Compose([transforms.ToTensor()]))\n",
        "\n",
        "# Split the test data into equal parts and feed it to the model\n",
        "test = torch.utils.data.DataLoader(data, batch_size = BATCH_SIZE)\n",
        "\n",
        "correct, all = 0, 0\n",
        "for images,labels in test:\n",
        "  for i in range(len(labels)):\n",
        "    img = images[i].view(1, 784)\n",
        "    logps = model(img)\n",
        "    ps = torch.exp(logps)\n",
        "    probab = list(ps.detach().numpy()[0])\n",
        "    pred_label = probab.index(max(probab))\n",
        "    true_label = labels.numpy()[i]\n",
        "    if(true_label == pred_label):\n",
        "        correct += 1\n",
        "    all += 1\n",
        "\n",
        "print(f\"Accuracy: {round((correct / all) * 100)}%\")"
      ],
      "metadata": {
        "colab": {
          "base_uri": "https://localhost:8080/"
        },
        "id": "qoFMN_KhG5go",
        "outputId": "0e519b73-7b25-42ea-f865-4c3b75d10304"
      },
      "execution_count": 25,
      "outputs": [
        {
          "output_type": "stream",
          "name": "stdout",
          "text": [
            "Accuracy: 89%\n"
          ]
        }
      ]
    }
  ]
}